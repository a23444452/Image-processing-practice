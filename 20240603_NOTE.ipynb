{
 "cells": [
  {
   "cell_type": "markdown",
   "id": "7b00edda-534a-43b1-8970-79f2aa2aad1b",
   "metadata": {},
   "source": [
    "## PyQt練習"
   ]
  },
  {
   "cell_type": "code",
   "execution_count": 2,
   "id": "1c496c29-88dc-4714-b76a-cef32d4934c4",
   "metadata": {},
   "outputs": [
    {
     "ename": "SystemExit",
     "evalue": "0",
     "output_type": "error",
     "traceback": [
      "An exception has occurred, use %tb to see the full traceback.\n",
      "\u001b[1;31mSystemExit\u001b[0m\u001b[1;31m:\u001b[0m 0\n"
     ]
    },
    {
     "name": "stderr",
     "output_type": "stream",
     "text": [
      "C:\\Users\\wangm15\\AppData\\Local\\mambaforge\\envs\\py310\\lib\\site-packages\\IPython\\core\\interactiveshell.py:3561: UserWarning: To exit: use 'exit', 'quit', or Ctrl-D.\n",
      "  warn(\"To exit: use 'exit', 'quit', or Ctrl-D.\", stacklevel=1)\n"
     ]
    }
   ],
   "source": [
    "import sys ##cmd讀進命令參數\n",
    "from PyQt6 import QtCore, QtGui, QtWidgets\n",
    "from PyQt6.QtWidgets import QApplication, QWidget, QMainWindow, QPushButton, QFileDialog, QLabel, QTextBrowser, QLineEdit\n",
    "\n",
    "app = QtWidgets.QApplication(sys.argv)\n",
    "# window = MainWindow()\n",
    "window = QWidget()\n",
    "window.show()\n",
    "sys.exit(app.exec())"
   ]
  },
  {
   "cell_type": "code",
   "execution_count": 1,
   "id": "048851c4-e476-4abf-8c33-8c114efcd523",
   "metadata": {},
   "outputs": [
    {
     "ename": "SystemExit",
     "evalue": "0",
     "output_type": "error",
     "traceback": [
      "An exception has occurred, use %tb to see the full traceback.\n",
      "\u001b[1;31mSystemExit\u001b[0m\u001b[1;31m:\u001b[0m 0\n"
     ]
    },
    {
     "name": "stderr",
     "output_type": "stream",
     "text": [
      "C:\\Users\\wangm15\\AppData\\Local\\mambaforge\\envs\\py310\\lib\\site-packages\\IPython\\core\\interactiveshell.py:3561: UserWarning: To exit: use 'exit', 'quit', or Ctrl-D.\n",
      "  warn(\"To exit: use 'exit', 'quit', or Ctrl-D.\", stacklevel=1)\n"
     ]
    }
   ],
   "source": [
    "import sys ##cmd讀進命令參數\n",
    "from PyQt6 import QtCore, QtGui, QtWidgets\n",
    "from PyQt6.QtWidgets import QApplication, QDialog\n",
    "\n",
    "app = QtWidgets.QApplication(sys.argv)\n",
    "# window = MainWindow()\n",
    "window = QDialog() ##沒有縮小放大視窗功能\n",
    "window.show()\n",
    "sys.exit(app.exec())"
   ]
  },
  {
   "cell_type": "code",
   "execution_count": 1,
   "id": "a237e8dc-ff8d-49b7-b76d-a42ac4ec9f0f",
   "metadata": {},
   "outputs": [
    {
     "ename": "SystemExit",
     "evalue": "0",
     "output_type": "error",
     "traceback": [
      "An exception has occurred, use %tb to see the full traceback.\n",
      "\u001b[1;31mSystemExit\u001b[0m\u001b[1;31m:\u001b[0m 0\n"
     ]
    },
    {
     "name": "stderr",
     "output_type": "stream",
     "text": [
      "C:\\Users\\wangm15\\AppData\\Local\\mambaforge\\envs\\py310\\lib\\site-packages\\IPython\\core\\interactiveshell.py:3561: UserWarning: To exit: use 'exit', 'quit', or Ctrl-D.\n",
      "  warn(\"To exit: use 'exit', 'quit', or Ctrl-D.\", stacklevel=1)\n"
     ]
    }
   ],
   "source": [
    "import sys ##cmd讀進命令參數\n",
    "from PyQt6 import QtCore, QtGui, QtWidgets\n",
    "from PyQt6.QtWidgets import QApplication, QMainWindow\n",
    "\n",
    "app = QtWidgets.QApplication(sys.argv)\n",
    "# window = MainWindow()\n",
    "window = QMainWindow() \n",
    "window.statusBar().showMessage(\"Hello MainWindow!\")\n",
    "window.menuBar().addMenu('File')\n",
    "window.show()\n",
    "sys.exit(app.exec())"
   ]
  },
  {
   "cell_type": "code",
   "execution_count": 1,
   "id": "d4f1fd16-1e7b-423f-bd0b-73a5e7a72888",
   "metadata": {},
   "outputs": [
    {
     "ename": "SystemExit",
     "evalue": "0",
     "output_type": "error",
     "traceback": [
      "An exception has occurred, use %tb to see the full traceback.\n",
      "\u001b[1;31mSystemExit\u001b[0m\u001b[1;31m:\u001b[0m 0\n"
     ]
    },
    {
     "name": "stderr",
     "output_type": "stream",
     "text": [
      "C:\\Users\\wangm15\\AppData\\Local\\mambaforge\\envs\\py310\\lib\\site-packages\\IPython\\core\\interactiveshell.py:3561: UserWarning: To exit: use 'exit', 'quit', or Ctrl-D.\n",
      "  warn(\"To exit: use 'exit', 'quit', or Ctrl-D.\", stacklevel=1)\n"
     ]
    }
   ],
   "source": [
    "import sys ##cmd讀進命令參數\n",
    "from PyQt6 import QtCore, QtGui, QtWidgets\n",
    "from PyQt6.QtWidgets import QApplication, QWidget, QMainWindow, QPushButton, QFileDialog, QLabel, QTextBrowser, QLineEdit\n",
    "\n",
    "app = QtWidgets.QApplication(sys.argv)\n",
    "window = QWidget()\n",
    "window.setWindowTitle('Simple PyQt App with QLabel')\n",
    "window.setGeometry(0, 0, 640, 480)\n",
    "label = QLabel('Hello, PyQt!', window)\n",
    "window.show()\n",
    "sys.exit(app.exec())"
   ]
  },
  {
   "cell_type": "code",
   "execution_count": 1,
   "id": "a79be051-f029-4523-83c5-1b4b7f20164e",
   "metadata": {},
   "outputs": [
    {
     "name": "stderr",
     "output_type": "stream",
     "text": [
      "C:\\Users\\wangm15\\AppData\\Local\\Temp\\ipykernel_15016\\2937168061.py:6: DeprecationWarning: sipPyTypeDict() is deprecated, the extension module should use sipPyTypeDictRef() instead\n",
      "  super().__init__()\n"
     ]
    },
    {
     "ename": "SystemExit",
     "evalue": "0",
     "output_type": "error",
     "traceback": [
      "An exception has occurred, use %tb to see the full traceback.\n",
      "\u001b[1;31mSystemExit\u001b[0m\u001b[1;31m:\u001b[0m 0\n"
     ]
    },
    {
     "name": "stderr",
     "output_type": "stream",
     "text": [
      "C:\\Users\\wangm15\\AppData\\Local\\mambaforge\\envs\\py310\\lib\\site-packages\\IPython\\core\\interactiveshell.py:3561: UserWarning: To exit: use 'exit', 'quit', or Ctrl-D.\n",
      "  warn(\"To exit: use 'exit', 'quit', or Ctrl-D.\", stacklevel=1)\n"
     ]
    }
   ],
   "source": [
    "import sys\n",
    "from PyQt6.QtWidgets import QApplication, QWidget, QLabel\n",
    "\n",
    "class MyWindow(QWidget):\n",
    "    def __init__(self):\n",
    "        super().__init__()\n",
    "        self.initUI()\n",
    "\n",
    "    def initUI(self):\n",
    "        self.setWindowTitle('Simple PyQt App with QLabel')\n",
    "        self.setGeometry(100, 100, 640, 480)\n",
    "        self.label = QLabel('Hello, PyQt!', self)\n",
    "\n",
    "if __name__ == \"__main__\":\n",
    "    app = QApplication(sys.argv)\n",
    "    window = MyWindow()\n",
    "    window.show()\n",
    "    sys.exit(app.exec())"
   ]
  },
  {
   "cell_type": "code",
   "execution_count": 1,
   "id": "d09fbe77-b5df-4215-9ce3-98bc2c56ca04",
   "metadata": {},
   "outputs": [
    {
     "ename": "SystemExit",
     "evalue": "0",
     "output_type": "error",
     "traceback": [
      "An exception has occurred, use %tb to see the full traceback.\n",
      "\u001b[1;31mSystemExit\u001b[0m\u001b[1;31m:\u001b[0m 0\n"
     ]
    },
    {
     "name": "stderr",
     "output_type": "stream",
     "text": [
      "C:\\Users\\wangm15\\AppData\\Local\\mambaforge\\envs\\py310\\lib\\site-packages\\IPython\\core\\interactiveshell.py:3561: UserWarning: To exit: use 'exit', 'quit', or Ctrl-D.\n",
      "  warn(\"To exit: use 'exit', 'quit', or Ctrl-D.\", stacklevel=1)\n"
     ]
    }
   ],
   "source": [
    "import practice05\n",
    "import sys ##cmd讀進命令參數\n",
    "from PyQt6.QtWidgets import QApplication\n",
    "\n",
    "app = QApplication(sys.argv)\n",
    "window = practice05.MyWindow()\n",
    "window.show()\n",
    "sys.exit(app.exec())"
   ]
  },
  {
   "cell_type": "markdown",
   "id": "8a870453-a871-4a1e-8f0e-aa2f7cb09f2d",
   "metadata": {},
   "source": [
    "## 作業"
   ]
  },
  {
   "cell_type": "code",
   "execution_count": 1,
   "id": "33a25f63-eaf6-47c7-8cdc-2381199d10cc",
   "metadata": {},
   "outputs": [
    {
     "ename": "SystemExit",
     "evalue": "0",
     "output_type": "error",
     "traceback": [
      "An exception has occurred, use %tb to see the full traceback.\n",
      "\u001b[1;31mSystemExit\u001b[0m\u001b[1;31m:\u001b[0m 0\n"
     ]
    },
    {
     "name": "stderr",
     "output_type": "stream",
     "text": [
      "C:\\Users\\wangm15\\AppData\\Local\\mambaforge\\envs\\py310\\lib\\site-packages\\IPython\\core\\interactiveshell.py:3561: UserWarning: To exit: use 'exit', 'quit', or Ctrl-D.\n",
      "  warn(\"To exit: use 'exit', 'quit', or Ctrl-D.\", stacklevel=1)\n"
     ]
    }
   ],
   "source": [
    "import sys\n",
    "from PyQt6.QtWidgets import QApplication, QWidget, QLabel, QPushButton, QFileDialog, QVBoxLayout\n",
    "from PyQt6.QtGui import QPixmap\n",
    "\n",
    "# 定义一个函数，用于打开文件选择对话框并显示选择的图片\n",
    "def open_file():\n",
    "    # 打开文件选择对话框\n",
    "    file_name, _ = QFileDialog.getOpenFileName(window, 'Open Image File', '', 'Image Files (*.png *.jpg *.bmp)')\n",
    "    if file_name:  # 如果用户选择了文件\n",
    "        pixmap = QPixmap(file_name)\n",
    "        label.setPixmap(pixmap)\n",
    "        label.resize(pixmap.width(), pixmap.height())\n",
    "\n",
    "# 创建应用程序对象\n",
    "app = QApplication(sys.argv)\n",
    "\n",
    "# 创建窗口对象\n",
    "window = QWidget()\n",
    "window.setWindowTitle('Image Display Example')\n",
    "window.setGeometry(100, 100, 800, 600)\n",
    "\n",
    "# 创建一个垂直布局\n",
    "layout = QVBoxLayout()\n",
    "\n",
    "# 创建一个 QLabel 对象\n",
    "label = QLabel()\n",
    "layout.addWidget(label)\n",
    "\n",
    "# 创建一个按钮，用于打开文件选择对话框\n",
    "button = QPushButton('Open Image')\n",
    "button.clicked.connect(open_file)\n",
    "layout.addWidget(button)\n",
    "\n",
    "# 设置窗口的布局\n",
    "window.setLayout(layout)\n",
    "\n",
    "# 显示窗口\n",
    "window.show()\n",
    "\n",
    "# 运行应用程序的事件循环\n",
    "sys.exit(app.exec())"
   ]
  },
  {
   "cell_type": "code",
   "execution_count": 1,
   "id": "0b0b0b0b-8b2a-4211-9a95-cd04e027dd95",
   "metadata": {},
   "outputs": [
    {
     "name": "stdout",
     "output_type": "stream",
     "text": [
      "\n",
      "0: 480x640 1 person, 128.7ms\n",
      "Speed: 7.0ms preprocess, 128.7ms inference, 1536.9ms postprocess per image at shape (1, 3, 480, 640)\n"
     ]
    },
    {
     "ename": "SystemExit",
     "evalue": "0",
     "output_type": "error",
     "traceback": [
      "An exception has occurred, use %tb to see the full traceback.\n",
      "\u001b[1;31mSystemExit\u001b[0m\u001b[1;31m:\u001b[0m 0\n"
     ]
    },
    {
     "name": "stderr",
     "output_type": "stream",
     "text": [
      "C:\\Users\\wangm15\\AppData\\Local\\mambaforge\\envs\\py310\\lib\\site-packages\\IPython\\core\\interactiveshell.py:3561: UserWarning: To exit: use 'exit', 'quit', or Ctrl-D.\n",
      "  warn(\"To exit: use 'exit', 'quit', or Ctrl-D.\", stacklevel=1)\n"
     ]
    }
   ],
   "source": [
    "import sys\n",
    "from PyQt6.QtWidgets import QApplication, QWidget, QLabel\n",
    "from PyQt6.QtGui import QPixmap\n",
    "from ultralytics import YOLO\n",
    "import cv2\n",
    "import numpy as np\n",
    "\n",
    "model = YOLO()\n",
    "\n",
    "app = QApplication(sys.argv)\n",
    "window = QWidget()\n",
    "window.setWindowTitle('Image Display Example')\n",
    "window.setGeometry(100, 100, 800, 600)  # 设置窗口大小，可以根据图片大小调整\n",
    "\n",
    "label = QLabel(window)\n",
    "\n",
    "image = cv2.imread(r'C:\\Users\\wangm15\\OneDrive - Corning Incorporated\\Desktop\\img\\60c57665-0fa8-4f61-9c2b-73c34f57416d.jpg')\n",
    "results = model(image)\n",
    "results[0].save('lady.jpg')\n",
    "pixmap = QPixmap('lady.jpg')  # 替换为你的图片路径\n",
    "label.setPixmap(pixmap)\n",
    "label.resize(pixmap.width(), pixmap.height())\n",
    "window.show()\n",
    "\n",
    "sys.exit(app.exec())"
   ]
  },
  {
   "cell_type": "markdown",
   "id": "83d824a2-9645-4a42-ab14-ad54ca486c2c",
   "metadata": {},
   "source": [
    "## Practice"
   ]
  },
  {
   "cell_type": "code",
   "execution_count": 1,
   "id": "2037f877-0797-4b23-8ac7-ffed3bfe76f2",
   "metadata": {
    "scrolled": true
   },
   "outputs": [
    {
     "ename": "SystemExit",
     "evalue": "0",
     "output_type": "error",
     "traceback": [
      "An exception has occurred, use %tb to see the full traceback.\n",
      "\u001b[1;31mSystemExit\u001b[0m\u001b[1;31m:\u001b[0m 0\n"
     ]
    },
    {
     "name": "stderr",
     "output_type": "stream",
     "text": [
      "C:\\Users\\wangm15\\AppData\\Local\\mambaforge\\envs\\py310\\lib\\site-packages\\IPython\\core\\interactiveshell.py:3561: UserWarning: To exit: use 'exit', 'quit', or Ctrl-D.\n",
      "  warn(\"To exit: use 'exit', 'quit', or Ctrl-D.\", stacklevel=1)\n"
     ]
    }
   ],
   "source": [
    "import sys\n",
    "from PyQt6.QtWidgets import QApplication, QWidget, QPushButton, QDialog\n",
    "\n",
    "def on_button_clicked():\n",
    "    dialog = QDialog(window)\n",
    "    dialog.setModal(True)\n",
    "    dialog.resize(300, 200)\n",
    "    dialog.show()\n",
    "\n",
    "app = QApplication(sys.argv)\n",
    "window = QWidget()\n",
    "window.setWindowTitle('Simple PyQt App with QLabel')\n",
    "window.setGeometry(100, 100, 640, 480) \n",
    "button = QPushButton('Hello, PyQt!', window)\n",
    "button.clicked.connect(on_button_clicked)\n",
    "window.show()\n",
    "sys.exit(app.exec())"
   ]
  },
  {
   "cell_type": "code",
   "execution_count": 1,
   "id": "3a70cc52-476c-4b5d-882b-5830cc83d2ae",
   "metadata": {},
   "outputs": [
    {
     "ename": "SystemExit",
     "evalue": "0",
     "output_type": "error",
     "traceback": [
      "An exception has occurred, use %tb to see the full traceback.\n",
      "\u001b[1;31mSystemExit\u001b[0m\u001b[1;31m:\u001b[0m 0\n"
     ]
    },
    {
     "name": "stderr",
     "output_type": "stream",
     "text": [
      "C:\\Users\\wangm15\\AppData\\Local\\mambaforge\\envs\\py310\\lib\\site-packages\\IPython\\core\\interactiveshell.py:3561: UserWarning: To exit: use 'exit', 'quit', or Ctrl-D.\n",
      "  warn(\"To exit: use 'exit', 'quit', or Ctrl-D.\", stacklevel=1)\n"
     ]
    }
   ],
   "source": [
    "import sys\n",
    "from PyQt6.QtWidgets import QApplication, QWidget, QLabel, QPushButton, QVBoxLayout\n",
    "\n",
    "app = QApplication(sys.argv)\n",
    "window = QWidget()\n",
    "window.setWindowTitle('Simple PyQt App with QLabel')\n",
    "window.setGeometry(100, 100, 640, 480)\n",
    "\n",
    "layout = QVBoxLayout()\n",
    "window.setLayout(layout)\n",
    "\n",
    "label = QLabel('Hello, QLabel!')\n",
    "button = QPushButton('Hello, QPushButton!')\n",
    "\n",
    "layout.addWidget(label)\n",
    "layout.addWidget(button)\n",
    "\n",
    "window.show()\n",
    "sys.exit(app.exec())"
   ]
  },
  {
   "cell_type": "code",
   "execution_count": 1,
   "id": "d71bc788-491d-4e69-8dd9-18e63936d0f1",
   "metadata": {},
   "outputs": [
    {
     "ename": "SystemExit",
     "evalue": "0",
     "output_type": "error",
     "traceback": [
      "An exception has occurred, use %tb to see the full traceback.\n",
      "\u001b[1;31mSystemExit\u001b[0m\u001b[1;31m:\u001b[0m 0\n"
     ]
    },
    {
     "name": "stderr",
     "output_type": "stream",
     "text": [
      "C:\\Users\\wangm15\\AppData\\Local\\mambaforge\\envs\\py310\\lib\\site-packages\\IPython\\core\\interactiveshell.py:3561: UserWarning: To exit: use 'exit', 'quit', or Ctrl-D.\n",
      "  warn(\"To exit: use 'exit', 'quit', or Ctrl-D.\", stacklevel=1)\n"
     ]
    }
   ],
   "source": [
    "import sys\n",
    "from PyQt6.QtWidgets import QApplication, QWidget, QPushButton, QVBoxLayout\n",
    "\n",
    "app = QApplication(sys.argv)\n",
    "window = QWidget()\n",
    "window.setWindowTitle('Simple PyQt App with QLabel')\n",
    "window.setGeometry(100, 100, 640, 480)\n",
    "\n",
    "layout = QVBoxLayout()\n",
    "window.setLayout(layout)\n",
    "\n",
    "buttons = []\n",
    "\n",
    "for i in range(10):\n",
    "    button = QPushButton(f'QPushButton{i:02}!')\n",
    "    buttons.append(button)\n",
    "    layout.addWidget(button)\n",
    "\n",
    "window.show()\n",
    "sys.exit(app.exec())"
   ]
  },
  {
   "cell_type": "code",
   "execution_count": 1,
   "id": "aaf48e5c-742d-4fbb-8360-66537d38180d",
   "metadata": {},
   "outputs": [
    {
     "ename": "SystemExit",
     "evalue": "0",
     "output_type": "error",
     "traceback": [
      "An exception has occurred, use %tb to see the full traceback.\n",
      "\u001b[1;31mSystemExit\u001b[0m\u001b[1;31m:\u001b[0m 0\n"
     ]
    },
    {
     "name": "stderr",
     "output_type": "stream",
     "text": [
      "C:\\Users\\wangm15\\AppData\\Local\\mambaforge\\envs\\py310\\lib\\site-packages\\IPython\\core\\interactiveshell.py:3561: UserWarning: To exit: use 'exit', 'quit', or Ctrl-D.\n",
      "  warn(\"To exit: use 'exit', 'quit', or Ctrl-D.\", stacklevel=1)\n"
     ]
    }
   ],
   "source": [
    "import sys\n",
    "from PyQt6.QtWidgets import QApplication, QWidget, QFormLayout, QLabel, QLineEdit\n",
    "\n",
    "app = QApplication(sys.argv)\n",
    "\n",
    "window = QWidget()\n",
    "window.setWindowTitle('Form Layout Example')\n",
    "\n",
    "layout = QFormLayout()\n",
    "window.setLayout(layout)\n",
    "\n",
    "label1 = QLabel('Label 1:')\n",
    "edit1 = QLineEdit()\n",
    "layout.addRow(label1, edit1)\n",
    "\n",
    "label2 = QLabel('Label 2:')\n",
    "edit2 = QLineEdit()\n",
    "layout.addRow(label2, edit2)\n",
    "\n",
    "label3 = QLabel('Label 3:')\n",
    "edit3 = QLineEdit()\n",
    "layout.addRow(label3, edit3)\n",
    "\n",
    "window.show()\n",
    "sys.exit(app.exec())"
   ]
  },
  {
   "cell_type": "code",
   "execution_count": 1,
   "id": "0a42bbbd-4360-46b2-bcad-147ca1cdfd84",
   "metadata": {},
   "outputs": [
    {
     "ename": "SystemExit",
     "evalue": "0",
     "output_type": "error",
     "traceback": [
      "An exception has occurred, use %tb to see the full traceback.\n",
      "\u001b[1;31mSystemExit\u001b[0m\u001b[1;31m:\u001b[0m 0\n"
     ]
    },
    {
     "name": "stderr",
     "output_type": "stream",
     "text": [
      "C:\\Users\\wangm15\\AppData\\Local\\mambaforge\\envs\\py310\\lib\\site-packages\\IPython\\core\\interactiveshell.py:3561: UserWarning: To exit: use 'exit', 'quit', or Ctrl-D.\n",
      "  warn(\"To exit: use 'exit', 'quit', or Ctrl-D.\", stacklevel=1)\n"
     ]
    }
   ],
   "source": [
    "import sys\n",
    "from PyQt6.QtWidgets import QApplication, QWidget, QVBoxLayout, QHBoxLayout, QPushButton, QLabel\n",
    "\n",
    "app = QApplication(sys.argv)\n",
    "\n",
    "window = QWidget()\n",
    "window.setWindowTitle('Different Layouts Example')\n",
    "window.setGeometry(100, 100, 400, 300)\n",
    "\n",
    "# 创建左侧布局\n",
    "left_layout = QVBoxLayout()\n",
    "\n",
    "left_label = QLabel('Left Side')\n",
    "left_layout.addWidget(left_label)\n",
    "\n",
    "left_button = QPushButton('Left Button')\n",
    "left_layout.addWidget(left_button)\n",
    "\n",
    "# 创建右侧布局\n",
    "right_layout = QVBoxLayout()\n",
    "\n",
    "right_label = QLabel('Right Side')\n",
    "right_layout.addWidget(right_label)\n",
    "\n",
    "right_button = QPushButton('Right Button')\n",
    "right_layout.addWidget(right_button)\n",
    "\n",
    "# 将左右布局放置在水平布局中\n",
    "main_layout = QHBoxLayout()\n",
    "main_layout.addLayout(left_layout)\n",
    "main_layout.addLayout(right_layout)\n",
    "\n",
    "# 将水平布局设置为窗口的主布局\n",
    "window.setLayout(main_layout)\n",
    "\n",
    "window.show()\n",
    "sys.exit(app.exec())"
   ]
  },
  {
   "cell_type": "code",
   "execution_count": 1,
   "id": "fb7dfcd2-d256-4e12-81ea-3798a6c2fc00",
   "metadata": {},
   "outputs": [
    {
     "name": "stdout",
     "output_type": "stream",
     "text": [
      "\n",
      "image 1/1 C:\\Users\\wangm15\\OneDrive - Corning Incorporated\\Desktop\\img\\60c57665-0fa8-4f61-9c2b-73c34f57416d.jpg: 480x640 1 person, 89.8ms\n",
      "Speed: 4.0ms preprocess, 89.8ms inference, 1318.7ms postprocess per image at shape (1, 3, 480, 640)\n"
     ]
    },
    {
     "ename": "SystemExit",
     "evalue": "0",
     "output_type": "error",
     "traceback": [
      "An exception has occurred, use %tb to see the full traceback.\n",
      "\u001b[1;31mSystemExit\u001b[0m\u001b[1;31m:\u001b[0m 0\n"
     ]
    },
    {
     "name": "stderr",
     "output_type": "stream",
     "text": [
      "C:\\Users\\wangm15\\AppData\\Local\\mambaforge\\envs\\py310\\lib\\site-packages\\IPython\\core\\interactiveshell.py:3561: UserWarning: To exit: use 'exit', 'quit', or Ctrl-D.\n",
      "  warn(\"To exit: use 'exit', 'quit', or Ctrl-D.\", stacklevel=1)\n"
     ]
    }
   ],
   "source": [
    "import sys\n",
    "from PyQt6.QtWidgets import QApplication, QWidget, QVBoxLayout, QHBoxLayout, QPushButton, QLabel, QFileDialog\n",
    "from PyQt6.QtGui import QPixmap\n",
    "from ultralytics import YOLO\n",
    "\n",
    "model = YOLO()\n",
    "\n",
    "def open_file():\n",
    "    file_name, _ = QFileDialog.getOpenFileName(window, 'Open Image File', '', 'Image Files (*.png *.jpg *.bmp)')\n",
    "    if file_name:  # 如果用户选择了文件\n",
    "        pixmap1 = QPixmap(file_name)\n",
    "        left_label.setPixmap(pixmap1)\n",
    "        left_label.resize(pixmap1.width(), pixmap1.height())\n",
    "        results = model(file_name)\n",
    "        results[0].save('result.jpg')\n",
    "        pixmap2 = QPixmap(\"result.jpg\")\n",
    "        right_label.setPixmap(pixmap2)\n",
    "        right_label.resize(pixmap2.width(), pixmap2.height())\n",
    "\n",
    "\n",
    "app = QApplication(sys.argv)\n",
    "\n",
    "window = QWidget()\n",
    "window.setWindowTitle('Different Layouts Example')\n",
    "window.setGeometry(100, 100, 400, 300)\n",
    "\n",
    "# 创建左侧布局\n",
    "left_layout = QVBoxLayout()\n",
    "\n",
    "left_label = QLabel('Left Side')\n",
    "left_layout.addWidget(left_label)\n",
    "\n",
    "left_button = QPushButton('Left Button')\n",
    "left_layout.addWidget(left_button)\n",
    "\n",
    "# 创建右侧布局\n",
    "right_layout = QVBoxLayout()\n",
    "\n",
    "right_label = QLabel('Right Side')\n",
    "right_layout.addWidget(right_label)\n",
    "\n",
    "# 将左右布局放置在水平布局中\n",
    "main_layout = QHBoxLayout()\n",
    "main_layout.addLayout(left_layout)\n",
    "main_layout.addLayout(right_layout)\n",
    "\n",
    "# 将水平布局设置为窗口的主布局\n",
    "window.setLayout(main_layout)\n",
    "\n",
    "left_button.clicked.connect(open_file)\n",
    "\n",
    "window.show()\n",
    "sys.exit(app.exec())"
   ]
  },
  {
   "cell_type": "code",
   "execution_count": 1,
   "id": "f3359ffb-a88d-4808-a389-edc637692e6c",
   "metadata": {},
   "outputs": [
    {
     "name": "stdout",
     "output_type": "stream",
     "text": [
      "Triggered!\n",
      "Triggered!\n",
      "Triggered!\n",
      "Triggered!\n",
      "Triggered!\n",
      "Triggered!\n",
      "Triggered!\n",
      "Triggered!\n",
      "Triggered!\n"
     ]
    },
    {
     "ename": "SystemExit",
     "evalue": "0",
     "output_type": "error",
     "traceback": [
      "An exception has occurred, use %tb to see the full traceback.\n",
      "\u001b[1;31mSystemExit\u001b[0m\u001b[1;31m:\u001b[0m 0\n"
     ]
    },
    {
     "name": "stderr",
     "output_type": "stream",
     "text": [
      "C:\\Users\\wangm15\\AppData\\Local\\mambaforge\\envs\\py310\\lib\\site-packages\\IPython\\core\\interactiveshell.py:3561: UserWarning: To exit: use 'exit', 'quit', or Ctrl-D.\n",
      "  warn(\"To exit: use 'exit', 'quit', or Ctrl-D.\", stacklevel=1)\n"
     ]
    }
   ],
   "source": [
    "import sys\n",
    "from PyQt6.QtWidgets import QApplication, QWidget\n",
    "from PyQt6.QtCore import QTimer\n",
    "\n",
    "def timeout():\n",
    "    print('Triggered!')\n",
    "\n",
    "app = QApplication(sys.argv)\n",
    "\n",
    "window = QWidget()\n",
    "\n",
    "timer = QTimer()\n",
    "timer.timeout.connect(timeout)\n",
    "timer.start(1000)\n",
    "\n",
    "window.show()\n",
    "\n",
    "sys.exit(app.exec())"
   ]
  },
  {
   "cell_type": "code",
   "execution_count": 1,
   "id": "68735157-b861-4de2-b533-815301e366cb",
   "metadata": {},
   "outputs": [
    {
     "ename": "SystemExit",
     "evalue": "0",
     "output_type": "error",
     "traceback": [
      "An exception has occurred, use %tb to see the full traceback.\n",
      "\u001b[1;31mSystemExit\u001b[0m\u001b[1;31m:\u001b[0m 0\n"
     ]
    },
    {
     "name": "stderr",
     "output_type": "stream",
     "text": [
      "C:\\Users\\wangm15\\AppData\\Local\\mambaforge\\envs\\py310\\lib\\site-packages\\IPython\\core\\interactiveshell.py:3561: UserWarning: To exit: use 'exit', 'quit', or Ctrl-D.\n",
      "  warn(\"To exit: use 'exit', 'quit', or Ctrl-D.\", stacklevel=1)\n"
     ]
    }
   ],
   "source": [
    "import sys\n",
    "from PyQt6.QtWidgets import QApplication, QWidget, QLabel\n",
    "from PyQt6.QtCore import QTimer\n",
    "\n",
    "count = 0\n",
    "\n",
    "def timeout():\n",
    "    global count\n",
    "    label.setText(f\"{count}\")\n",
    "    count += 1\n",
    "\n",
    "app = QApplication(sys.argv)\n",
    "\n",
    "window = QWidget()\n",
    "label = QLabel(window)\n",
    "\n",
    "timer = QTimer()\n",
    "timer.timeout.connect(timeout)\n",
    "timer.start(1000)\n",
    "\n",
    "# count = 0\n",
    "\n",
    "window.show()\n",
    "\n",
    "sys.exit(app.exec())"
   ]
  },
  {
   "cell_type": "code",
   "execution_count": 1,
   "id": "90208121-800c-4b97-8bbd-dcaa1da5ec55",
   "metadata": {},
   "outputs": [
    {
     "ename": "SystemExit",
     "evalue": "0",
     "output_type": "error",
     "traceback": [
      "An exception has occurred, use %tb to see the full traceback.\n",
      "\u001b[1;31mSystemExit\u001b[0m\u001b[1;31m:\u001b[0m 0\n"
     ]
    },
    {
     "name": "stderr",
     "output_type": "stream",
     "text": [
      "C:\\Users\\wangm15\\AppData\\Local\\mambaforge\\envs\\py310\\lib\\site-packages\\IPython\\core\\interactiveshell.py:3561: UserWarning: To exit: use 'exit', 'quit', or Ctrl-D.\n",
      "  warn(\"To exit: use 'exit', 'quit', or Ctrl-D.\", stacklevel=1)\n"
     ]
    }
   ],
   "source": [
    "import sys\n",
    "from PyQt6.QtCore import QTimer\n",
    "from PyQt6.QtWidgets import QApplication, QWidget, QLabel, QVBoxLayout\n",
    "\n",
    "# 定义一个更新标签内容的函数\n",
    "def update_label():\n",
    "    label.setText('Timer triggered!')\n",
    "\n",
    "# 创建应用程序对象\n",
    "app = QApplication(sys.argv)\n",
    "\n",
    "# 创建窗口对象\n",
    "window = QWidget()\n",
    "window.setWindowTitle('QTimer singleShot Example')\n",
    "window.setGeometry(100, 100, 300, 200)\n",
    "\n",
    "# 创建一个垂直布局\n",
    "layout = QVBoxLayout()\n",
    "window.setLayout(layout)\n",
    "\n",
    "# 创建一个标签\n",
    "label = QLabel('Waiting for timer...', window)\n",
    "layout.addWidget(label)\n",
    "\n",
    "# 使用 QTimer.singleShot 设置一个单次触发的定时器\n",
    "QTimer.singleShot(5000, update_label)  # 设置定时器5秒后触发update_label函数\n",
    "\n",
    "# 显示窗口\n",
    "window.show()\n",
    "\n",
    "# 运行应用程序的事件循环\n",
    "sys.exit(app.exec())"
   ]
  },
  {
   "cell_type": "code",
   "execution_count": 1,
   "id": "fe817be5-2b80-4985-9521-a5d7171a886d",
   "metadata": {},
   "outputs": [
    {
     "ename": "SystemExit",
     "evalue": "0",
     "output_type": "error",
     "traceback": [
      "An exception has occurred, use %tb to see the full traceback.\n",
      "\u001b[1;31mSystemExit\u001b[0m\u001b[1;31m:\u001b[0m 0\n"
     ]
    },
    {
     "name": "stderr",
     "output_type": "stream",
     "text": [
      "C:\\Users\\wangm15\\AppData\\Local\\mambaforge\\envs\\py310\\lib\\site-packages\\IPython\\core\\interactiveshell.py:3561: UserWarning: To exit: use 'exit', 'quit', or Ctrl-D.\n",
      "  warn(\"To exit: use 'exit', 'quit', or Ctrl-D.\", stacklevel=1)\n"
     ]
    }
   ],
   "source": [
    "import skimage\n",
    "import sys\n",
    "from PyQt6.QtWidgets import QApplication, QWidget, QLabel\n",
    "from PyQt6.QtGui import QPixmap, QImage\n",
    "\n",
    "app = QApplication(sys.argv)\n",
    "\n",
    "window = QWidget()\n",
    "label = QLabel(window)\n",
    "\n",
    "img = skimage.io.imread('lady.jpg')\n",
    "bytes_per_line = img.shape[1]*img.shape[2] #[0]高度; [1]寬度; [2]像素有幾個bytes\n",
    "q_image = QImage(img, img.shape[1], img.shape[0], bytes_per_line, QImage.Format.Format_RGB888)\n",
    "\n",
    "pixmap = QPixmap.fromImage(q_image)\n",
    "label.setPixmap(pixmap)\n",
    "label.resize(q_image.width(), q_image.height())\n",
    "\n",
    "window.show()\n",
    "\n",
    "sys.exit(app.exec())"
   ]
  },
  {
   "cell_type": "code",
   "execution_count": 1,
   "id": "2af70dfb-8797-44bc-9c82-c0bc996ace18",
   "metadata": {},
   "outputs": [
    {
     "ename": "SystemExit",
     "evalue": "0",
     "output_type": "error",
     "traceback": [
      "An exception has occurred, use %tb to see the full traceback.\n",
      "\u001b[1;31mSystemExit\u001b[0m\u001b[1;31m:\u001b[0m 0\n"
     ]
    },
    {
     "name": "stderr",
     "output_type": "stream",
     "text": [
      "C:\\Users\\wangm15\\AppData\\Local\\mambaforge\\envs\\py310\\lib\\site-packages\\IPython\\core\\interactiveshell.py:3561: UserWarning: To exit: use 'exit', 'quit', or Ctrl-D.\n",
      "  warn(\"To exit: use 'exit', 'quit', or Ctrl-D.\", stacklevel=1)\n"
     ]
    }
   ],
   "source": [
    "import sys\n",
    "from PyQt6.QtWidgets import QApplication, QWidget, QLabel, QPushButton\n",
    "from PyQt6.QtGui import QPixmap, QImage\n",
    "from PyQt6.QtCore import Qt\n",
    "import skimage\n",
    "\n",
    "app = QApplication(sys.argv)\n",
    "\n",
    "window = QWidget()\n",
    "window.setWindowTitle('課間小專案')\n",
    "window.setFixedSize(640, 360)\n",
    "label1 = QLabel(window)\n",
    "label2 = QLabel(window)\n",
    "button = QPushButton('Open File', window)\n",
    "label1.setFixedSize(300, 300)\n",
    "label1.move(10, 10)\n",
    "label2.setFixedSize(300, 300)\n",
    "label2.move(325, 10)\n",
    "button.setGeometry(10, 320, 150, 30)\n",
    "label1.setStyleSheet('background-color: gray')\n",
    "label2.setStyleSheet('background-color: gray')\n",
    "\n",
    "pixmap1 = QPixmap(r'C:\\Users\\wangm15\\OneDrive - Corning Incorporated\\Desktop\\img\\60c57665-0fa8-4f61-9c2b-73c34f57416d.jpg')\n",
    "pixmap1 = pixmap1.scaled(300, 300, aspectRatioMode=Qt.AspectRatioMode.KeepAspectRatio)\n",
    "label1.setPixmap(pixmap1)\n",
    "pixmap2 = QPixmap('lady.jpg')\n",
    "pixmap2 = pixmap2.scaled(300, 300, aspectRatioMode=Qt.AspectRatioMode.KeepAspectRatio)\n",
    "label2.setPixmap(pixmap2)\n",
    "\n",
    "window.show()\n",
    "\n",
    "sys.exit(app.exec())"
   ]
  },
  {
   "cell_type": "code",
   "execution_count": 1,
   "id": "594979f3-2af3-42d6-8448-e4c60c201202",
   "metadata": {},
   "outputs": [
    {
     "ename": "SystemExit",
     "evalue": "0",
     "output_type": "error",
     "traceback": [
      "An exception has occurred, use %tb to see the full traceback.\n",
      "\u001b[1;31mSystemExit\u001b[0m\u001b[1;31m:\u001b[0m 0\n"
     ]
    },
    {
     "name": "stderr",
     "output_type": "stream",
     "text": [
      "C:\\Users\\wangm15\\AppData\\Local\\mambaforge\\envs\\py310\\lib\\site-packages\\IPython\\core\\interactiveshell.py:3561: UserWarning: To exit: use 'exit', 'quit', or Ctrl-D.\n",
      "  warn(\"To exit: use 'exit', 'quit', or Ctrl-D.\", stacklevel=1)\n"
     ]
    }
   ],
   "source": [
    "import sys\n",
    "from PyQt6.QtWidgets import QApplication, QWidget, QLabel, QPushButton, QFileDialog\n",
    "from PyQt6.QtGui import QPixmap, QImage\n",
    "from PyQt6.QtCore import Qt\n",
    "import skimage\n",
    "\n",
    "def open_file():\n",
    "    file_name, _ = QFileDialog.getOpenFileName(window, 'Open Image File', '', 'Image Files (*.png *.jpg *.bmp)')\n",
    "    if file_name:\n",
    "        pixmap1 = QPixmap(file_name)\n",
    "        pixmap1 = pixmap1.scaled(300, 300, aspectRatioMode=Qt.AspectRatioMode.KeepAspectRatio)\n",
    "        label1.setPixmap(pixmap1)\n",
    "        img = skimage.io.imread(file_name)\n",
    "        img = 255 - img\n",
    "        bytes_per_line = img.shape[1] * img.shape[2]\n",
    "        q_image = QImage(img, img.shape[1], img.shape[0], bytes_per_line, QImage.Format.Format_RGB888)\n",
    "        pixmap2 = QPixmap.fromImage(q_image)\n",
    "        pixmap2 = pixmap2.scaled(300, 300, aspectRatioMode=Qt.AspectRatioMode.KeepAspectRatio)\n",
    "        label2.setPixmap(pixmap2)\n",
    "\n",
    "app = QApplication(sys.argv)\n",
    "\n",
    "window = QWidget()\n",
    "window.setWindowTitle('課間小專案')\n",
    "window.setFixedSize(640, 360)\n",
    "label1 = QLabel(window)\n",
    "label2 = QLabel(window)\n",
    "button = QPushButton('Open File', window)\n",
    "label1.setFixedSize(300, 300)\n",
    "label1.move(10, 10)\n",
    "label2.setFixedSize(300, 300)\n",
    "label2.move(325, 10)\n",
    "button.setGeometry(10, 320, 150, 30)\n",
    "label1.setStyleSheet('background-color: gray')\n",
    "label2.setStyleSheet('background-color: gray')\n",
    "\n",
    "button.clicked.connect(open_file)\n",
    "\n",
    "# pixmap1 = QPixmap('therock.jpg')\n",
    "# pixmap1 = pixmap1.scaled(300, 300, aspectRatioMode=Qt.AspectRatioMode.KeepAspectRatio)\n",
    "# label1.setPixmap(pixmap1)\n",
    "# pixmap2 = QPixmap('therock.jpg')\n",
    "# pixmap2 = pixmap2.scaled(300, 300, aspectRatioMode=Qt.AspectRatioMode.KeepAspectRatio)\n",
    "# label2.setPixmap(pixmap2)\n",
    "\n",
    "window.show()\n",
    "\n",
    "sys.exit(app.exec())"
   ]
  },
  {
   "cell_type": "code",
   "execution_count": null,
   "id": "78e76e3c-a417-437f-bd63-dd60cdb3e319",
   "metadata": {},
   "outputs": [],
   "source": [
    "import sys\n",
    "from PyQt6.QtWidgets import QApplication, QWidget, QLabel, QPushButton, QFileDialog\n",
    "from PyQt6.QtGui import QPixmap, QImage\n",
    "from PyQt6.QtCore import Qt\n",
    "import skimage\n",
    "\n",
    "def open_file():\n",
    "    file_name, _ = QFileDialog.getOpenFileName(window, 'Open Image File', '', 'Image Files (*.png *.jpg *.bmp)')\n",
    "    if file_name:\n",
    "        pixmap1 = QPixmap(file_name)\n",
    "        pixmap1 = pixmap1.scaled(300, 300, aspectRatioMode=Qt.AspectRatioMode.KeepAspectRatio)\n",
    "        label1.setPixmap(pixmap1)\n",
    "        img = skimage.io.imread(file_name)\n",
    "        img = 255 - img\n",
    "        bytes_per_line = img.shape[1] * img.shape[2]\n",
    "        q_image = QImage(img, img.shape[1], img.shape[0], bytes_per_line, QImage.Format.Format_RGB888)\n",
    "        pixmap2 = QPixmap.fromImage(q_image)\n",
    "        pixmap2 = pixmap2.scaled(300, 300, aspectRatioMode=Qt.AspectRatioMode.KeepAspectRatio)\n",
    "        label2.setPixmap(pixmap2)\n",
    "\n",
    "app = QApplication(sys.argv)\n",
    "\n",
    "window = QWidget()\n",
    "window.setWindowTitle('課間小專案')\n",
    "window.setFixedSize(640, 360)\n",
    "label1 = QLabel(window)\n",
    "label2 = QLabel(window)\n",
    "button = QPushButton('Open File', window)\n",
    "label1.setFixedSize(300, 300)\n",
    "label1.move(10, 10)\n",
    "label2.setFixedSize(300, 300)\n",
    "label2.move(325, 10)\n",
    "button.setGeometry(10, 320, 150, 30)\n",
    "label1.setStyleSheet('background-color: gray')\n",
    "label2.setStyleSheet('background-color: gray')\n",
    "\n",
    "button.clicked.connect(open_file)\n",
    "button.setStyleSheet('border: 1px solid black')\n",
    "\n",
    "# pixmap1 = QPixmap('therock.jpg')\n",
    "# pixmap1 = pixmap1.scaled(300, 300, aspectRatioMode=Qt.AspectRatioMode.KeepAspectRatio)\n",
    "# label1.setPixmap(pixmap1)\n",
    "# pixmap2 = QPixmap('therock.jpg')\n",
    "# pixmap2 = pixmap2.scaled(300, 300, aspectRatioMode=Qt.AspectRatioMode.KeepAspectRatio)\n",
    "# label2.setPixmap(pixmap2)\n",
    "\n",
    "window.show()\n",
    "\n",
    "sys.exit(app.exec())"
   ]
  },
  {
   "cell_type": "code",
   "execution_count": 1,
   "id": "74cb3cdd-b937-49bd-a475-ec1eef9da731",
   "metadata": {},
   "outputs": [
    {
     "name": "stdout",
     "output_type": "stream",
     "text": [
      "Selected option: Option 2\n",
      "Selected option: Option 3\n",
      "Selected option: Option 1\n"
     ]
    },
    {
     "ename": "SystemExit",
     "evalue": "0",
     "output_type": "error",
     "traceback": [
      "An exception has occurred, use %tb to see the full traceback.\n",
      "\u001b[1;31mSystemExit\u001b[0m\u001b[1;31m:\u001b[0m 0\n"
     ]
    },
    {
     "name": "stderr",
     "output_type": "stream",
     "text": [
      "C:\\Users\\wangm15\\AppData\\Local\\mambaforge\\envs\\py310\\lib\\site-packages\\IPython\\core\\interactiveshell.py:3561: UserWarning: To exit: use 'exit', 'quit', or Ctrl-D.\n",
      "  warn(\"To exit: use 'exit', 'quit', or Ctrl-D.\", stacklevel=1)\n"
     ]
    }
   ],
   "source": [
    "import sys\n",
    "from PyQt6.QtWidgets import QApplication, QWidget, QVBoxLayout, QRadioButton\n",
    "\n",
    "def on_radio_button_toggled():\n",
    "    radio_button = app.sender()\n",
    "    if radio_button.isChecked():\n",
    "        print(f'Selected option: {radio_button.text()}')\n",
    "\n",
    "app = QApplication(sys.argv)\n",
    "\n",
    "window = QWidget()\n",
    "window.setWindowTitle('Radio Button Example')\n",
    "window.setGeometry(100, 100, 300, 200)\n",
    "\n",
    "layout = QVBoxLayout(window)\n",
    "\n",
    "radio_button1 = QRadioButton('Option 1')\n",
    "radio_button2 = QRadioButton('Option 2')\n",
    "radio_button3 = QRadioButton('Option 3')\n",
    "\n",
    "layout.addWidget(radio_button1)\n",
    "layout.addWidget(radio_button2)\n",
    "layout.addWidget(radio_button3)\n",
    "\n",
    "radio_button1.setChecked(True)  # 设置默认选中\n",
    "\n",
    "radio_button1.toggled.connect(on_radio_button_toggled)\n",
    "radio_button2.toggled.connect(on_radio_button_toggled)\n",
    "radio_button3.toggled.connect(on_radio_button_toggled)\n",
    "\n",
    "window.show()\n",
    "\n",
    "sys.exit(app.exec())"
   ]
  },
  {
   "cell_type": "markdown",
   "id": "6ca0bbd0-8a9f-4668-8517-6872ca94183a",
   "metadata": {},
   "source": [
    "## PyQt6 w/ YOLO"
   ]
  },
  {
   "cell_type": "code",
   "execution_count": 1,
   "id": "0adee158-800b-4292-b1d6-8ca2ea33e903",
   "metadata": {},
   "outputs": [
    {
     "name": "stderr",
     "output_type": "stream",
     "text": [
      "C:\\Users\\wangm15\\AppData\\Local\\Temp\\ipykernel_7144\\1638919342.py:7: DeprecationWarning: sipPyTypeDict() is deprecated, the extension module should use sipPyTypeDictRef() instead\n",
      "  super().__init__()\n"
     ]
    },
    {
     "ename": "SystemExit",
     "evalue": "0",
     "output_type": "error",
     "traceback": [
      "An exception has occurred, use %tb to see the full traceback.\n",
      "\u001b[1;31mSystemExit\u001b[0m\u001b[1;31m:\u001b[0m 0\n"
     ]
    },
    {
     "name": "stderr",
     "output_type": "stream",
     "text": [
      "C:\\Users\\wangm15\\AppData\\Local\\mambaforge\\envs\\py310\\lib\\site-packages\\IPython\\core\\interactiveshell.py:3561: UserWarning: To exit: use 'exit', 'quit', or Ctrl-D.\n",
      "  warn(\"To exit: use 'exit', 'quit', or Ctrl-D.\", stacklevel=1)\n"
     ]
    }
   ],
   "source": [
    "import sys\n",
    "from PyQt6.QtWidgets import QApplication, QWidget, QPushButton, QDialog\n",
    "from PyQt6 import QtWidgets, QtGui\n",
    "\n",
    "class MyWidget(QtWidgets.QWidget):\n",
    "    def __init__(self):\n",
    "        super().__init__()\n",
    "        self.setWindowTitle('Simple PyQt App with QLabel')\n",
    "        self.resize(300, 300)\n",
    "        self.ui()\n",
    "\n",
    "    def ui(self):\n",
    "        self.grview = QtWidgets.QGraphicsView(self)  \n",
    "        self.grview.setGeometry(20, 20, 260, 200)    \n",
    "        self.scene = QtWidgets.QGraphicsScene()  # 將 scene 設為 MyWidget 類別的一部分\n",
    "        self.scene.setSceneRect(0, 0, 300, 400)           \n",
    "        self.button = QtWidgets.QPushButton('Open Image')\n",
    "        self.button.clicked.connect(self.open_file)  \n",
    "        \n",
    "        layout = QtWidgets.QVBoxLayout()\n",
    "        layout.addWidget(self.button)\n",
    "        layout.addWidget(self.grview)\n",
    "        self.setLayout(layout)\n",
    "\n",
    "    def open_file(self):\n",
    "        file_name, _ = QtWidgets.QFileDialog.getOpenFileName(self, 'Open Image File', '', 'Image Files (*.png *.jpg *.bmp)')\n",
    "        if file_name:\n",
    "            pixmap = QtGui.QPixmap(file_name)\n",
    "            item = QtWidgets.QGraphicsPixmapItem(pixmap)\n",
    "            self.scene.addItem(item)\n",
    "            self.grview.setScene(self.scene) \n",
    "\n",
    "if __name__ == '__main__':\n",
    "    app = QtWidgets.QApplication(sys.argv)\n",
    "    window = MyWidget()\n",
    "    window.show()\n",
    "    sys.exit(app.exec())"
   ]
  },
  {
   "cell_type": "code",
   "execution_count": 1,
   "id": "e097a1e9-cc77-47ac-94b2-1206a2239999",
   "metadata": {},
   "outputs": [
    {
     "name": "stderr",
     "output_type": "stream",
     "text": [
      "C:\\Users\\wangm15\\AppData\\Local\\Temp\\ipykernel_7836\\4245292228.py:10: DeprecationWarning: sipPyTypeDict() is deprecated, the extension module should use sipPyTypeDictRef() instead\n",
      "  super().__init__()\n"
     ]
    },
    {
     "name": "stdout",
     "output_type": "stream",
     "text": [
      "\n",
      "0: 640x640 5 persons, 7 cars, 1 truck, 1 handbag, 109.7ms\n",
      "Speed: 6.0ms preprocess, 109.7ms inference, 1184.0ms postprocess per image at shape (1, 3, 640, 640)\n",
      "Detect done!\n"
     ]
    },
    {
     "ename": "SystemExit",
     "evalue": "0",
     "output_type": "error",
     "traceback": [
      "An exception has occurred, use %tb to see the full traceback.\n",
      "\u001b[1;31mSystemExit\u001b[0m\u001b[1;31m:\u001b[0m 0\n"
     ]
    },
    {
     "name": "stderr",
     "output_type": "stream",
     "text": [
      "C:\\Users\\wangm15\\AppData\\Local\\mambaforge\\envs\\py310\\lib\\site-packages\\IPython\\core\\interactiveshell.py:3561: UserWarning: To exit: use 'exit', 'quit', or Ctrl-D.\n",
      "  warn(\"To exit: use 'exit', 'quit', or Ctrl-D.\", stacklevel=1)\n"
     ]
    }
   ],
   "source": [
    "import sys\n",
    "from PyQt6.QtWidgets import QApplication, QWidget, QPushButton, QDialog\n",
    "from PyQt6 import QtWidgets, QtGui, QtCore\n",
    "from ultralytics import YOLO\n",
    "import cv2\n",
    "import numpy as np\n",
    "\n",
    "class MyWidget(QtWidgets.QWidget):\n",
    "    def __init__(self):\n",
    "        super().__init__()\n",
    "        self.setWindowTitle('Simple PyQt App with QLabel')\n",
    "        self.resize(800, 800)\n",
    "        self.ui()\n",
    "\n",
    "    def ui(self):\n",
    "        # self.grview = QtWidgets.QGraphicsView(self)  \n",
    "        # self.grview.setGeometry(20, 20, 260, 200)    \n",
    "        self.grview = QtWidgets.QGraphicsView()  \n",
    "        self.scene = QtWidgets.QGraphicsScene()  # 將 scene 設為 MyWidget 類別的一部分\n",
    "        self.scene.setSceneRect(0, 0, 800, 800)\n",
    "        self.grview.setScene(self.scene)\n",
    "        \n",
    "        # 加入圖片按鈕\n",
    "        self.button = QtWidgets.QPushButton('Open Image')\n",
    "        self.button.clicked.connect(self.open_file)\n",
    "        self.button_YOLO = QtWidgets.QPushButton('YOLO detect')\n",
    "        self.button_YOLO.clicked.connect(self.YOLO_DETECT)\n",
    "        self.button_SHOW_DETECT = QtWidgets.QPushButton('Show detect image')\n",
    "        self.button_SHOW_DETECT.clicked.connect(self.SHOW_DETECT_IMG)\n",
    "\n",
    "        # 創建居中對齊的布局\n",
    "        layout = QtWidgets.QVBoxLayout()\n",
    "        layout.addWidget(self.grview, alignment=QtCore.Qt.AlignmentFlag.AlignCenter)  # 將 QGraphicsView 放在中央位置\n",
    "        layout.addWidget(self.button)\n",
    "        layout.addWidget(self.button_YOLO)\n",
    "        layout.addWidget(self.button_SHOW_DETECT)\n",
    "        layout.addWidget(self.grview)\n",
    "        self.setLayout(layout)\n",
    "\n",
    "    def open_file(self):\n",
    "        self.file_name, _ = QtWidgets.QFileDialog.getOpenFileName(self, 'Open Image File', '', 'Image Files (*.png *.jpg *.bmp)')\n",
    "        if self.file_name:\n",
    "            pixmap = QtGui.QPixmap(self.file_name)\n",
    "            item = QtWidgets.QGraphicsPixmapItem(pixmap)\n",
    "            self.scene.addItem(item)\n",
    "            self.grview.setScene(self.scene) \n",
    "\n",
    "    def YOLO_DETECT(self):\n",
    "        model = YOLO()\n",
    "        image = cv2.imread(self.file_name)\n",
    "        results = model(image)\n",
    "        results[0].save('decet_img.jpg')\n",
    "        print(\"Detect done!\")\n",
    "\n",
    "    def SHOW_DETECT_IMG(self):\n",
    "        pixmap = QtGui.QPixmap('decet_img.jpg')\n",
    "        item = QtWidgets.QGraphicsPixmapItem(pixmap)\n",
    "        self.scene.addItem(item)\n",
    "        self.grview.setScene(self.scene)\n",
    "        \n",
    "if __name__ == '__main__':\n",
    "    app = QtWidgets.QApplication(sys.argv)\n",
    "    window = MyWidget()\n",
    "    window.show()\n",
    "    sys.exit(app.exec())"
   ]
  },
  {
   "cell_type": "code",
   "execution_count": 1,
   "id": "e6f9e497-79f1-4323-8876-96df7e0c52a8",
   "metadata": {},
   "outputs": [
    {
     "name": "stdout",
     "output_type": "stream",
     "text": [
      "\n",
      "0: 640x640 5 persons, 7 cars, 1 truck, 1 handbag, 101.7ms\n",
      "Speed: 5.0ms preprocess, 101.7ms inference, 1176.9ms postprocess per image at shape (1, 3, 640, 640)\n",
      "Detection done!\n"
     ]
    },
    {
     "ename": "SystemExit",
     "evalue": "0",
     "output_type": "error",
     "traceback": [
      "An exception has occurred, use %tb to see the full traceback.\n",
      "\u001b[1;31mSystemExit\u001b[0m\u001b[1;31m:\u001b[0m 0\n"
     ]
    },
    {
     "name": "stderr",
     "output_type": "stream",
     "text": [
      "C:\\Users\\wangm15\\AppData\\Local\\mambaforge\\envs\\py310\\lib\\site-packages\\IPython\\core\\interactiveshell.py:3561: UserWarning: To exit: use 'exit', 'quit', or Ctrl-D.\n",
      "  warn(\"To exit: use 'exit', 'quit', or Ctrl-D.\", stacklevel=1)\n"
     ]
    }
   ],
   "source": [
    "import sys\n",
    "from PyQt6.QtWidgets import QApplication, QWidget, QVBoxLayout, QHBoxLayout, QPushButton, QLabel, QFileDialog\n",
    "from PyQt6.QtGui import QPixmap\n",
    "from ultralytics import YOLO\n",
    "import cv2\n",
    "\n",
    "model = YOLO()\n",
    "\n",
    "app = QApplication(sys.argv)\n",
    "\n",
    "window = QWidget()\n",
    "window.setWindowTitle('Different Layouts Example')\n",
    "window.setGeometry(100, 100, 800, 600)\n",
    "\n",
    "left_label = QLabel('Original image')\n",
    "left_button = QPushButton('Open Image')\n",
    "\n",
    "right_label = QLabel('YOLO detect image')\n",
    "right_button = QPushButton('YOLO detect')\n",
    "\n",
    "left_layout = QVBoxLayout()\n",
    "left_layout.addWidget(left_label)\n",
    "left_layout.addWidget(left_button)\n",
    "\n",
    "right_layout = QVBoxLayout()\n",
    "right_layout.addWidget(right_label)\n",
    "right_layout.addWidget(right_button)\n",
    "\n",
    "main_layout = QHBoxLayout()\n",
    "main_layout.addLayout(left_layout)\n",
    "main_layout.addLayout(right_layout)\n",
    "\n",
    "window.setLayout(main_layout)\n",
    "\n",
    "file_name = \"\"  # 預設為空字符串\n",
    "\n",
    "def open_file():\n",
    "    global file_name  # 使用全域變數\n",
    "    file_name, _ = QFileDialog.getOpenFileName(window, 'Open Image File', '', 'Image Files (*.png *.jpg *.bmp)')\n",
    "    if file_name:  \n",
    "        pixmap1 = QPixmap(file_name)\n",
    "        left_label.setPixmap(pixmap1)\n",
    "        left_label.resize(pixmap1.width(), pixmap1.height())\n",
    "\n",
    "def YOLO_DETECT():\n",
    "    global file_name  # 使用全域變數\n",
    "    if file_name:\n",
    "        image = cv2.imread(file_name)\n",
    "        results = model(image)\n",
    "        results[0].save(\"detect_img.jpg\")\n",
    "        pixmap2 = QPixmap(\"detect_img.jpg\")\n",
    "        right_label.setPixmap(pixmap2)\n",
    "        right_label.resize(pixmap2.width(), pixmap2.height())\n",
    "        print(\"Detection done!\")\n",
    "    else:\n",
    "        print(\"Please select an image first.\")\n",
    "\n",
    "left_button.clicked.connect(open_file)\n",
    "right_button.clicked.connect(YOLO_DETECT)\n",
    "\n",
    "window.show()\n",
    "sys.exit(app.exec())\n"
   ]
  },
  {
   "cell_type": "code",
   "execution_count": 1,
   "id": "0685a5fc-67e6-4785-98ff-8ff5a79da92b",
   "metadata": {},
   "outputs": [
    {
     "name": "stdout",
     "output_type": "stream",
     "text": [
      "\n",
      "0: 640x640 5 persons, 7 cars, 1 truck, 1 handbag, 108.7ms\n",
      "Speed: 4.0ms preprocess, 108.7ms inference, 1184.9ms postprocess per image at shape (1, 3, 640, 640)\n",
      "Detection done!\n"
     ]
    },
    {
     "ename": "SystemExit",
     "evalue": "0",
     "output_type": "error",
     "traceback": [
      "An exception has occurred, use %tb to see the full traceback.\n",
      "\u001b[1;31mSystemExit\u001b[0m\u001b[1;31m:\u001b[0m 0\n"
     ]
    },
    {
     "name": "stderr",
     "output_type": "stream",
     "text": [
      "C:\\Users\\wangm15\\AppData\\Local\\mambaforge\\envs\\py310\\lib\\site-packages\\IPython\\core\\interactiveshell.py:3561: UserWarning: To exit: use 'exit', 'quit', or Ctrl-D.\n",
      "  warn(\"To exit: use 'exit', 'quit', or Ctrl-D.\", stacklevel=1)\n"
     ]
    }
   ],
   "source": [
    "import sys\n",
    "from PyQt6.QtWidgets import QApplication, QWidget, QVBoxLayout, QHBoxLayout, QPushButton, QLabel, QFileDialog\n",
    "from PyQt6.QtGui import QPixmap, QImage\n",
    "from PyQt6.QtCore import Qt\n",
    "from ultralytics import YOLO\n",
    "import cv2\n",
    "\n",
    "model = YOLO()\n",
    "\n",
    "app = QApplication(sys.argv)\n",
    "\n",
    "window = QWidget()\n",
    "window.setWindowTitle('Different Layouts Example')\n",
    "window.setFixedSize(640, 360)\n",
    "\n",
    "left_label = QLabel('Original image', window)\n",
    "left_label.setFixedSize(300, 300)\n",
    "left_label.move(10, 10)\n",
    "left_button = QPushButton('Open Image', window)\n",
    "left_button.setGeometry(10, 320, 150, 30)\n",
    "\n",
    "right_label = QLabel('YOLO detect image', window)\n",
    "right_label.setFixedSize(300, 300)\n",
    "right_label.move(325, 10)\n",
    "right_button = QPushButton('YOLO detect', window)\n",
    "right_button.setGeometry(325, 320, 150, 30)\n",
    "\n",
    "left_label.setStyleSheet('background-color: gray')\n",
    "right_label.setStyleSheet('background-color: gray')\n",
    "\n",
    "# left_layout = QVBoxLayout()\n",
    "# left_layout.addWidget(left_label)\n",
    "# left_layout.addWidget(left_button)\n",
    "\n",
    "# right_layout = QVBoxLayout()\n",
    "# right_layout.addWidget(right_label)\n",
    "# right_layout.addWidget(right_button)\n",
    "\n",
    "# main_layout = QHBoxLayout()\n",
    "# main_layout.addLayout(left_layout)\n",
    "# main_layout.addLayout(right_layout)\n",
    "\n",
    "# window.setLayout(main_layout)\n",
    "\n",
    "file_name = \"\"  # 預設為空字符串\n",
    "\n",
    "def open_file():\n",
    "    global file_name  # 使用全域變數\n",
    "    file_name, _ = QFileDialog.getOpenFileName(window, 'Open Image File', '', 'Image Files (*.png *.jpg *.bmp)')\n",
    "    if file_name:  \n",
    "        pixmap1 = QPixmap(file_name)\n",
    "        pixmap1 = pixmap1.scaled(300, 300, aspectRatioMode=Qt.AspectRatioMode.KeepAspectRatio)\n",
    "        left_label.setPixmap(pixmap1)\n",
    "        # left_label.resize(pixmap1.width(), pixmap1.height())\n",
    "\n",
    "def YOLO_DETECT():\n",
    "    global file_name  # 使用全域變數\n",
    "    if file_name:\n",
    "        image = cv2.imread(file_name)\n",
    "        results = model(image)\n",
    "        results[0].save(\"detect_img.jpg\")\n",
    "        pixmap2 = QPixmap(\"detect_img.jpg\")\n",
    "        pixmap2 = pixmap2.scaled(300, 300, aspectRatioMode=Qt.AspectRatioMode.KeepAspectRatio)\n",
    "        right_label.setPixmap(pixmap2)\n",
    "        # right_label.resize(pixmap2.width(), pixmap2.height())\n",
    "        print(\"Detection done!\")\n",
    "    else:\n",
    "        print(\"Please select an image first.\")\n",
    "\n",
    "left_button.clicked.connect(open_file)\n",
    "right_button.clicked.connect(YOLO_DETECT)\n",
    "\n",
    "window.show()\n",
    "sys.exit(app.exec())"
   ]
  },
  {
   "cell_type": "code",
   "execution_count": 1,
   "id": "37df3b43-a51b-4c1f-90a1-0ebe276e69bc",
   "metadata": {},
   "outputs": [
    {
     "name": "stdout",
     "output_type": "stream",
     "text": [
      "\n",
      "0: 480x640 1 person, 107.7ms\n",
      "Speed: 4.0ms preprocess, 107.7ms inference, 1186.5ms postprocess per image at shape (1, 3, 480, 640)\n",
      "Detection done!\n"
     ]
    },
    {
     "ename": "SystemExit",
     "evalue": "0",
     "output_type": "error",
     "traceback": [
      "An exception has occurred, use %tb to see the full traceback.\n",
      "\u001b[1;31mSystemExit\u001b[0m\u001b[1;31m:\u001b[0m 0\n"
     ]
    },
    {
     "name": "stderr",
     "output_type": "stream",
     "text": [
      "C:\\Users\\wangm15\\AppData\\Local\\mambaforge\\envs\\py310\\lib\\site-packages\\IPython\\core\\interactiveshell.py:3561: UserWarning: To exit: use 'exit', 'quit', or Ctrl-D.\n",
      "  warn(\"To exit: use 'exit', 'quit', or Ctrl-D.\", stacklevel=1)\n"
     ]
    }
   ],
   "source": [
    "## 使用 YOLOv8 的 Instance Segmentation\n",
    "import numpy as np\n",
    "import sys\n",
    "from PyQt6.QtWidgets import QApplication, QWidget, QVBoxLayout, QHBoxLayout, QPushButton, QLabel, QFileDialog\n",
    "from PyQt6.QtGui import QPixmap, QImage\n",
    "from PyQt6.QtCore import Qt\n",
    "from ultralytics import YOLO\n",
    "import cv2\n",
    "\n",
    "model = YOLO(\"yolov8n-seg.pt\")  # load a pretrained model (recommended for training)\n",
    "\n",
    "app = QApplication(sys.argv)\n",
    "\n",
    "window = QWidget()\n",
    "window.setWindowTitle('Different Layouts Example')\n",
    "window.setFixedSize(640, 360)\n",
    "\n",
    "left_label = QLabel('Original image', window)\n",
    "left_label.setFixedSize(300, 300)\n",
    "left_label.move(10, 10)\n",
    "left_button = QPushButton('Open Image', window)\n",
    "left_button.setGeometry(10, 320, 150, 30)\n",
    "\n",
    "right_label = QLabel('YOLO detect image', window)\n",
    "right_label.setFixedSize(300, 300)\n",
    "right_label.move(325, 10)\n",
    "right_button = QPushButton('YOLO detect', window)\n",
    "right_button.setGeometry(325, 320, 150, 30)\n",
    "\n",
    "left_label.setStyleSheet('background-color: gray')\n",
    "right_label.setStyleSheet('background-color: gray')\n",
    "\n",
    "file_name = \"\"  # 預設為空字符串\n",
    "\n",
    "def open_file():\n",
    "    global file_name  # 使用全域變數\n",
    "    file_name, _ = QFileDialog.getOpenFileName(window, 'Open Image File', '', 'Image Files (*.png *.jpg *.bmp)')\n",
    "    if file_name:  \n",
    "        pixmap1 = QPixmap(file_name)\n",
    "        pixmap1 = pixmap1.scaled(300, 300, aspectRatioMode=Qt.AspectRatioMode.KeepAspectRatio)\n",
    "        left_label.setPixmap(pixmap1)\n",
    "        # left_label.resize(pixmap1.width(), pixmap1.height())\n",
    "\n",
    "def YOLO_DETECT():\n",
    "    global file_name  # 使用全域變數\n",
    "    if file_name:\n",
    "        image = cv2.imread(file_name)\n",
    "        results = model(image)\n",
    "        for result in results:\n",
    "            for seg in result.masks.xy:  # 獲取分割多邊形\n",
    "                # 轉換為整數類型座標\n",
    "                points = np.array(seg, dtype=np.int32)\n",
    "                # 繪製多邊形\n",
    "                cv2.polylines(image, [points], isClosed=True, color=(0, 255, 0), thickness=2)\n",
    "        cv2.imwrite(\"detect_img.jpg\", image)\n",
    "        pixmap2 = QPixmap(\"detect_img.jpg\")\n",
    "        pixmap2 = pixmap2.scaled(300, 300, aspectRatioMode=Qt.AspectRatioMode.KeepAspectRatio)\n",
    "        right_label.setPixmap(pixmap2)\n",
    "        # right_label.resize(pixmap2.width(), pixmap2.height())\n",
    "        print(\"Detection done!\")\n",
    "    else:\n",
    "        print(\"Please select an image first.\")\n",
    "\n",
    "left_button.clicked.connect(open_file)\n",
    "right_button.clicked.connect(YOLO_DETECT)\n",
    "\n",
    "window.show()\n",
    "sys.exit(app.exec())"
   ]
  },
  {
   "cell_type": "code",
   "execution_count": 1,
   "id": "c9d434d8-caf5-4780-b04e-9976a8c0c652",
   "metadata": {},
   "outputs": [
    {
     "name": "stdout",
     "output_type": "stream",
     "text": [
      "\n",
      "0: 480x640 1 person, 185.5ms\n",
      "Speed: 4.0ms preprocess, 185.5ms inference, 1191.8ms postprocess per image at shape (1, 3, 480, 640)\n",
      "Detection done!\n"
     ]
    },
    {
     "ename": "SystemExit",
     "evalue": "0",
     "output_type": "error",
     "traceback": [
      "An exception has occurred, use %tb to see the full traceback.\n",
      "\u001b[1;31mSystemExit\u001b[0m\u001b[1;31m:\u001b[0m 0\n"
     ]
    },
    {
     "name": "stderr",
     "output_type": "stream",
     "text": [
      "C:\\Users\\wangm15\\AppData\\Local\\mambaforge\\envs\\py310\\lib\\site-packages\\IPython\\core\\interactiveshell.py:3561: UserWarning: To exit: use 'exit', 'quit', or Ctrl-D.\n",
      "  warn(\"To exit: use 'exit', 'quit', or Ctrl-D.\", stacklevel=1)\n"
     ]
    }
   ],
   "source": [
    "## 使用 YOLOv8 的 Instance Segmentation\n",
    "import numpy as np\n",
    "import sys\n",
    "from PyQt6.QtWidgets import QApplication, QWidget, QVBoxLayout, QHBoxLayout, QPushButton, QLabel, QFileDialog\n",
    "from PyQt6.QtGui import QPixmap, QImage\n",
    "from PyQt6.QtCore import Qt\n",
    "from ultralytics import YOLO\n",
    "import cv2\n",
    "\n",
    "model = YOLO(\"yolov8n-seg.pt\")  # load a pretrained model (recommended for training)\n",
    "\n",
    "app = QApplication(sys.argv)\n",
    "\n",
    "window = QWidget()\n",
    "window.setWindowTitle('Different Layouts Example')\n",
    "window.setFixedSize(640, 360)\n",
    "\n",
    "left_label = QLabel('Original image', window)\n",
    "left_label.setFixedSize(300, 300)\n",
    "left_label.move(10, 10)\n",
    "left_button = QPushButton('Open Image', window)\n",
    "left_button.setGeometry(10, 320, 150, 30)\n",
    "\n",
    "right_label = QLabel('YOLO detect image', window)\n",
    "right_label.setFixedSize(300, 300)\n",
    "right_label.move(325, 10)\n",
    "right_button = QPushButton('YOLO detect', window)\n",
    "right_button.setGeometry(325, 320, 150, 30)\n",
    "\n",
    "left_label.setStyleSheet('background-color: gray')\n",
    "right_label.setStyleSheet('background-color: gray')\n",
    "\n",
    "file_name = \"\"  # 預設為空字符串\n",
    "\n",
    "def open_file():\n",
    "    global file_name  # 使用全域變數\n",
    "    file_name, _ = QFileDialog.getOpenFileName(window, 'Open Image File', '', 'Image Files (*.png *.jpg *.bmp)')\n",
    "    if file_name:  \n",
    "        pixmap1 = QPixmap(file_name)\n",
    "        pixmap1 = pixmap1.scaled(300, 300, aspectRatioMode=Qt.AspectRatioMode.KeepAspectRatio)\n",
    "        left_label.setPixmap(pixmap1)\n",
    "        # left_label.resize(pixmap1.width(), pixmap1.height())\n",
    "\n",
    "def YOLO_DETECT():\n",
    "    global file_name  # 使用全域變數\n",
    "    if file_name:\n",
    "        image = cv2.imread(file_name)\n",
    "        results = model(image)\n",
    "        \n",
    "        # Extract bounding boxes\n",
    "        boxes = results[0].boxes.xyxy.tolist()\n",
    "        # Iterate through the bounding boxes\n",
    "        for i, box in enumerate(boxes):\n",
    "            x1, y1, x2, y2 = box\n",
    "            # Crop the object using the bounding box coordinates\n",
    "            ultralytics_crop_object = image[int(y1):int(y2), int(x1):int(x2)]\n",
    "            # Save the cropped object as an image\n",
    "            cv2.imwrite(\"detect_img.jpg\", ultralytics_crop_object)\n",
    "        pixmap2 = QPixmap(\"detect_img.jpg\")\n",
    "        pixmap2 = pixmap2.scaled(300, 300, aspectRatioMode=Qt.AspectRatioMode.KeepAspectRatio)\n",
    "        right_label.setPixmap(pixmap2)\n",
    "        # right_label.resize(pixmap2.width(), pixmap2.height())\n",
    "        print(\"Detection done!\")\n",
    "    else:\n",
    "        print(\"Please select an image first.\")\n",
    "\n",
    "left_button.clicked.connect(open_file)\n",
    "right_button.clicked.connect(YOLO_DETECT)\n",
    "\n",
    "window.show()\n",
    "sys.exit(app.exec())"
   ]
  },
  {
   "cell_type": "code",
   "execution_count": 1,
   "id": "b7c30956-7089-47f6-bcc9-a32ca2de2efc",
   "metadata": {},
   "outputs": [
    {
     "name": "stdout",
     "output_type": "stream",
     "text": [
      "\n",
      "0: 480x640 1 person, 148.2ms\n",
      "Speed: 5.0ms preprocess, 148.2ms inference, 1620.7ms postprocess per image at shape (1, 3, 480, 640)\n",
      "Detection done! Cropped and displayed the segmented area.\n"
     ]
    },
    {
     "ename": "SystemExit",
     "evalue": "0",
     "output_type": "error",
     "traceback": [
      "An exception has occurred, use %tb to see the full traceback.\n",
      "\u001b[1;31mSystemExit\u001b[0m\u001b[1;31m:\u001b[0m 0\n"
     ]
    },
    {
     "name": "stderr",
     "output_type": "stream",
     "text": [
      "C:\\Users\\wangm15\\AppData\\Local\\mambaforge\\envs\\py310\\lib\\site-packages\\IPython\\core\\interactiveshell.py:3561: UserWarning: To exit: use 'exit', 'quit', or Ctrl-D.\n",
      "  warn(\"To exit: use 'exit', 'quit', or Ctrl-D.\", stacklevel=1)\n"
     ]
    }
   ],
   "source": [
    "## 使用 YOLOv8 的 Instance Segmentation\n",
    "import numpy as np\n",
    "import sys\n",
    "from PyQt6.QtWidgets import QApplication, QWidget, QVBoxLayout, QHBoxLayout, QPushButton, QLabel, QFileDialog\n",
    "from PyQt6.QtGui import QPixmap, QImage\n",
    "from PyQt6.QtCore import Qt\n",
    "from ultralytics import YOLO\n",
    "import cv2\n",
    "\n",
    "model = YOLO(\"yolov8n-seg.pt\")  # load a pretrained model (recommended for training)\n",
    "\n",
    "app = QApplication(sys.argv)\n",
    "\n",
    "window = QWidget()\n",
    "window.setWindowTitle('Different Layouts Example')\n",
    "window.setFixedSize(640, 360)\n",
    "\n",
    "left_label = QLabel('Original image', window)\n",
    "left_label.setFixedSize(300, 300)\n",
    "left_label.move(10, 10)\n",
    "left_button = QPushButton('Open Image', window)\n",
    "left_button.setGeometry(10, 320, 150, 30)\n",
    "\n",
    "right_label = QLabel('YOLO detect image', window)\n",
    "right_label.setFixedSize(300, 300)\n",
    "right_label.move(325, 10)\n",
    "right_button = QPushButton('YOLO detect', window)\n",
    "right_button.setGeometry(325, 320, 150, 30)\n",
    "\n",
    "left_label.setStyleSheet('background-color: gray')\n",
    "right_label.setStyleSheet('background-color: gray')\n",
    "\n",
    "file_name = \"\"  # 預設為空字符串\n",
    "\n",
    "def open_file():\n",
    "    global file_name  # 使用全域變數\n",
    "    file_name, _ = QFileDialog.getOpenFileName(window, 'Open Image File', '', 'Image Files (*.png *.jpg *.bmp)')\n",
    "    if file_name:  \n",
    "        pixmap1 = QPixmap(file_name)\n",
    "        pixmap1 = pixmap1.scaled(300, 300, aspectRatioMode=Qt.AspectRatioMode.KeepAspectRatio)\n",
    "        left_label.setPixmap(pixmap1)\n",
    "\n",
    "def YOLO_DETECT():\n",
    "    # nonlocal file_name  # 使用 nonlocal 避免全域變數\n",
    "    global file_name  # 使用全域變數\n",
    "    if file_name:\n",
    "        image = cv2.imread(file_name)\n",
    "        if image is None:\n",
    "            print(\"Failed to load image.\")\n",
    "            return\n",
    "        results = model(image)\n",
    "        \n",
    "        if len(results) == 0:\n",
    "            print(\"No objects detected.\")\n",
    "            return\n",
    "    \n",
    "        for result in results:\n",
    "            for seg in result.masks.xy:  # 獲取分割多邊形\n",
    "                points = np.array(seg, dtype=np.int32)  # 轉換為整數類型座標\n",
    "\n",
    "                # 創建遮罩\n",
    "                mask = np.zeros(image.shape[:2], dtype=np.uint8)\n",
    "                cv2.fillPoly(mask, [points], color=(255))\n",
    "\n",
    "                # 使用遮罩\n",
    "                masked_image = cv2.bitwise_and(image, image, mask=mask)\n",
    "\n",
    "                # 剪裁顯示多邊形內圖像\n",
    "                x, y, w, h = cv2.boundingRect(points)\n",
    "                cropped_image = masked_image[y:y+h, x:x+w]\n",
    "\n",
    "                # 將裁剪後的圖保存或顯示\n",
    "                cv2.imwrite(\"detect_img_crop.jpg\", cropped_image)\n",
    "                pixmap2 = QPixmap(\"detect_img_crop.jpg\")\n",
    "                pixmap2 = pixmap2.scaled(300, 300, aspectRatioMode=Qt.AspectRatioMode.KeepAspectRatio)\n",
    "                right_label.setPixmap(pixmap2)\n",
    "                print(\"Detection done! Cropped and displayed the segmented area.\")\n",
    "                return  # 假設只顯示一個分割結果\n",
    "\n",
    "    else:\n",
    "        print(\"Please select an image first.\")\n",
    "\n",
    "left_button.clicked.connect(open_file)\n",
    "right_button.clicked.connect(YOLO_DETECT)\n",
    "\n",
    "window.show()\n",
    "sys.exit(app.exec())"
   ]
  },
  {
   "cell_type": "code",
   "execution_count": null,
   "id": "84ebfd65-69d2-4218-b1e9-203628cee22c",
   "metadata": {},
   "outputs": [],
   "source": []
  }
 ],
 "metadata": {
  "kernelspec": {
   "display_name": "Python 3 (ipykernel)",
   "language": "python",
   "name": "python3"
  },
  "language_info": {
   "codemirror_mode": {
    "name": "ipython",
    "version": 3
   },
   "file_extension": ".py",
   "mimetype": "text/x-python",
   "name": "python",
   "nbconvert_exporter": "python",
   "pygments_lexer": "ipython3",
   "version": "3.10.14"
  }
 },
 "nbformat": 4,
 "nbformat_minor": 5
}
